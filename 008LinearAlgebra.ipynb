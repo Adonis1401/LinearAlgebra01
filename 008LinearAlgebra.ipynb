{
  "metadata": {
    "language_info": {
      "codemirror_mode": {
        "name": "python",
        "version": 3
      },
      "file_extension": ".py",
      "mimetype": "text/x-python",
      "name": "python",
      "nbconvert_exporter": "python",
      "pygments_lexer": "ipython3",
      "version": "3.8"
    },
    "kernelspec": {
      "name": "python",
      "display_name": "Python (Pyodide)",
      "language": "python"
    }
  },
  "nbformat_minor": 4,
  "nbformat": 4,
  "cells": [
    {
      "cell_type": "code",
      "source": "import numpy as np\nimport matplotlib.pyplot as plt\n\nA = np.array ( [ [3,1] , [0,2] ]  ) \nprint(A)\n\neig_val, eig_vec  =  np.linalg.eig (A)\n\nprint(\"Eigenvalues: \", eig_val)\nprint(\"Eigenvectors are columns in the matrix:\\n\",eig_vec)\n\nEigenvalues:  [3. 2.]\nEigenvectors are columns in the matrix:\n [[ 1.         -0.70710678]\n [ 0.          0.70710678]]\n\nplt.quiver( [0,0] , [0,0], eig_vec[0,:], eig_vec[1,:], angles = 'xy', scale_units = 'xy', scale = 1  )\nplt.xlim(-2, 2)\nplt.ylim(-2, 2)\nplt.grid('on')\nplt.show()\nplt.savefig(\"eigenvectors.png\", dpi = 800)",
      "metadata": {
        "trusted": true
      },
      "execution_count": 1,
      "outputs": [
        {
          "ename": "<class 'SyntaxError'>",
          "evalue": "invalid syntax. Perhaps you forgot a comma? (<ipython-input-1-6ccdf6332490>, line 12)",
          "traceback": [
            "\u001b[0;36m  Cell \u001b[0;32mIn[1], line 12\u001b[0;36m\u001b[0m\n\u001b[0;31m    Eigenvalues:  [3. 2.]\u001b[0m\n\u001b[0m                   ^\u001b[0m\n\u001b[0;31mSyntaxError\u001b[0m\u001b[0;31m:\u001b[0m invalid syntax. Perhaps you forgot a comma?\n"
          ],
          "output_type": "error"
        }
      ]
    },
    {
      "cell_type": "code",
      "source": "",
      "metadata": {},
      "execution_count": null,
      "outputs": []
    }
  ]
}