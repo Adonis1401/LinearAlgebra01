{
  "metadata": {
    "language_info": {
      "codemirror_mode": {
        "name": "python",
        "version": 3
      },
      "file_extension": ".py",
      "mimetype": "text/x-python",
      "name": "python",
      "nbconvert_exporter": "python",
      "pygments_lexer": "ipython3",
      "version": "3.8"
    },
    "kernelspec": {
      "name": "python",
      "display_name": "Python (Pyodide)",
      "language": "python"
    }
  },
  "nbformat_minor": 4,
  "nbformat": 4,
  "cells": [
    {
      "cell_type": "code",
      "source": "#import libraries\nimport numpy as np\nimport matplotlib.pyplot as plt\nimport cv2",
      "metadata": {
        "trusted": true
      },
      "execution_count": 1,
      "outputs": []
    },
    {
      "cell_type": "code",
      "source": "A = np.ones((6, 6))\nA[:,:2] = A[:,:2]*2\nA[:,2:4] = A[:,2:4]*3\nA[:,4:] = A[:,4:]*4\n\nprint(A)",
      "metadata": {
        "trusted": true
      },
      "execution_count": 2,
      "outputs": [
        {
          "name": "stdout",
          "text": "[[2. 2. 3. 3. 4. 4.]\n [2. 2. 3. 3. 4. 4.]\n [2. 2. 3. 3. 4. 4.]\n [2. 2. 3. 3. 4. 4.]\n [2. 2. 3. 3. 4. 4.]\n [2. 2. 3. 3. 4. 4.]]\n",
          "output_type": "stream"
        }
      ]
    },
    {
      "cell_type": "code",
      "source": "our_map = 'hot'\n#our_map = 'gray'",
      "metadata": {
        "trusted": true
      },
      "execution_count": 3,
      "outputs": []
    },
    {
      "cell_type": "code",
      "source": "U, S, VT = np.linalg.svd(A)\nS = np.diag(S)",
      "metadata": {
        "trusted": true
      },
      "execution_count": 4,
      "outputs": []
    },
    {
      "cell_type": "code",
      "source": "def draw_svd(A,U, S, VT, our_map):\n  plt.subplot(221 )\n  plt.title('Original matrix')\n  plt.imshow(A, cmap =our_map)\n  plt.axis('off')\n  plt.subplot(222)\n  plt.title('U  matrix')\n  plt.imshow(U, cmap =our_map)\n  plt.axis('off')\n  plt.subplot(223)\n  plt.title('Sigma matrix')\n  plt.imshow(S, cmap =our_map)\n  plt.axis('off')\n  plt.subplot(224)\n  plt.title('V matrix')\n  plt.imshow(VT, cmap =our_map)\n  plt.axis('off')",
      "metadata": {
        "trusted": true
      },
      "execution_count": 5,
      "outputs": []
    },
    {
      "cell_type": "code",
      "source": "def truncate_u_v(S, U, VT):\n  threshold = 0.001\n  s = np.diag(S)\n  index = s < threshold\n\n  U[:,index] = 0\n  VT[index,:]=0\n  return U, VT",
      "metadata": {
        "trusted": true
      },
      "execution_count": 6,
      "outputs": []
    },
    {
      "cell_type": "code",
      "source": "U, VT = truncate_u_v(S, U, VT)\ndraw_svd(A, U, S, VT, our_map)",
      "metadata": {
        "trusted": true
      },
      "execution_count": 7,
      "outputs": [
        {
          "output_type": "display_data",
          "data": {
            "text/plain": "<Figure size 640x480 with 4 Axes>",
            "image/png": "[encoded data removed]"
          },
          "metadata": {}
        }
      ]
    },
    {
      "cell_type": "code",
      "source": "r = 1\nA0_r = np.matmul(U[:,:r] , S[:r,:r]) \nA0_r = np.matmul (A0_r , VT[:r,:])\nplt.imshow(A0_r, cmap =  our_map)\nplt.axis('off')",
      "metadata": {
        "trusted": true
      },
      "execution_count": 8,
      "outputs": [
        {
          "execution_count": 8,
          "output_type": "execute_result",
          "data": {
            "text/plain": "(-0.5, 5.5, 5.5, -0.5)"
          },
          "metadata": {}
        },
        {
          "output_type": "display_data",
          "data": {
            "text/plain": "<Figure size 640x480 with 1 Axes>",
            "image/png": "[encoded data removed]"
          },
          "metadata": {}
        }
      ]
    },
    {
      "cell_type": "code",
      "source": "A = [[1, 0], [1, 1]]\nU, S, VT = np.linalg.svd(A)\nS = np.diag(S)\n\nprint(f\"U {U}\\nS {S}\\nVT {VT}\")",
      "metadata": {
        "trusted": true
      },
      "execution_count": 9,
      "outputs": [
        {
          "name": "stdout",
          "text": "U [[-0.52573111 -0.85065081]\n [-0.85065081  0.52573111]]\nS [[1.61803399 0.        ]\n [0.         0.61803399]]\nVT [[-0.85065081 -0.52573111]\n [-0.52573111  0.85065081]]\n",
          "output_type": "stream"
        }
      ]
    },
    {
      "cell_type": "code",
      "source": "from sklearn.datasets import fetch_olivetti_faces\nface = fetch_olivetti_faces()\n\nX = face.data\n# The images are of size 64 x 64\nX.shape\nCode language: PHP (php)",
      "metadata": {
        "trusted": true
      },
      "execution_count": 10,
      "outputs": [
        {
          "ename": "<class 'SyntaxError'>",
          "evalue": "invalid syntax (<ipython-input-10-74d8359f1e82>, line 7)",
          "traceback": [
            "\u001b[0;36m  Cell \u001b[0;32mIn[10], line 7\u001b[0;36m\u001b[0m\n\u001b[0;31m    Code language: PHP (php)\u001b[0m\n\u001b[0m         ^\u001b[0m\n\u001b[0;31mSyntaxError\u001b[0m\u001b[0;31m:\u001b[0m invalid syntax\n"
          ],
          "output_type": "error"
        }
      ]
    },
    {
      "cell_type": "code",
      "source": "faces = X[0,:].reshape((64,64))",
      "metadata": {
        "trusted": true
      },
      "execution_count": 11,
      "outputs": [
        {
          "ename": "<class 'NameError'>",
          "evalue": "name 'X' is not defined",
          "traceback": [
            "\u001b[0;31m---------------------------------------------------------------------------\u001b[0m",
            "\u001b[0;31mNameError\u001b[0m                                 Traceback (most recent call last)",
            "Cell \u001b[0;32mIn[11], line 1\u001b[0m\n\u001b[0;32m----> 1\u001b[0m faces \u001b[38;5;241m=\u001b[39m \u001b[43mX\u001b[49m[\u001b[38;5;241m0\u001b[39m,:]\u001b[38;5;241m.\u001b[39mreshape((\u001b[38;5;241m64\u001b[39m,\u001b[38;5;241m64\u001b[39m))\n",
            "\u001b[0;31mNameError\u001b[0m: name 'X' is not defined"
          ],
          "output_type": "error"
        }
      ]
    },
    {
      "cell_type": "code",
      "source": "# we decompose the image of a face\nU, S, VT = np.linalg.svd(faces)\nS = np.diag(S)\nfaces = faces.astype('float')\n#U, VT = truncate_u_v(S, U, VT)\ndraw_svd(faces, U, S, VT, 'gray')",
      "metadata": {
        "trusted": true
      },
      "execution_count": 12,
      "outputs": [
        {
          "ename": "<class 'NameError'>",
          "evalue": "name 'faces' is not defined",
          "traceback": [
            "\u001b[0;31m---------------------------------------------------------------------------\u001b[0m",
            "\u001b[0;31mNameError\u001b[0m                                 Traceback (most recent call last)",
            "Cell \u001b[0;32mIn[12], line 2\u001b[0m\n\u001b[1;32m      1\u001b[0m \u001b[38;5;66;03m# we decompose the image of a face\u001b[39;00m\n\u001b[0;32m----> 2\u001b[0m U, S, VT \u001b[38;5;241m=\u001b[39m np\u001b[38;5;241m.\u001b[39mlinalg\u001b[38;5;241m.\u001b[39msvd(\u001b[43mfaces\u001b[49m)\n\u001b[1;32m      3\u001b[0m S \u001b[38;5;241m=\u001b[39m np\u001b[38;5;241m.\u001b[39mdiag(S)\n\u001b[1;32m      4\u001b[0m faces \u001b[38;5;241m=\u001b[39m faces\u001b[38;5;241m.\u001b[39mastype(\u001b[38;5;124m'\u001b[39m\u001b[38;5;124mfloat\u001b[39m\u001b[38;5;124m'\u001b[39m)\n",
            "\u001b[0;31mNameError\u001b[0m: name 'faces' is not defined"
          ],
          "output_type": "error"
        }
      ]
    },
    {
      "cell_type": "code",
      "source": "diag_elem = np.diag(S)\nplt.stem(diag_elem[1:])",
      "metadata": {
        "trusted": true
      },
      "execution_count": 13,
      "outputs": [
        {
          "execution_count": 13,
          "output_type": "execute_result",
          "data": {
            "text/plain": "<StemContainer object of 3 artists>"
          },
          "metadata": {}
        },
        {
          "output_type": "display_data",
          "data": {
            "text/plain": "<Figure size 640x480 with 1 Axes>",
            "image/png": "[encoded data removed]"
          },
          "metadata": {}
        }
      ]
    },
    {
      "cell_type": "code",
      "source": "for r in range(1, 40):\n    img_r = np.matmul(U[:,:r] , S[:r,:r]) \n    img_r = np.matmul (img_r , VT[:r,:])\n\n    plt.title(f\"A rank-{r} approximation\")\n    plt.imshow(img_r, cmap = 'gray')\n    filename = \"image_\" + str(r).zfill(3) + \".jpg\"\n    plt.axis('off')\n    plt.savefig(filename)",
      "metadata": {
        "trusted": true
      },
      "execution_count": 14,
      "outputs": [
        {
          "output_type": "display_data",
          "data": {
            "text/plain": "<Figure size 640x480 with 1 Axes>",
            "image/png": "[encoded data removed]"
          },
          "metadata": {}
        }
      ]
    },
    {
      "cell_type": "code",
      "source": "# Load image\nimg = cv2.iimg = cv2.imread('serbia.png', 1)\nplt.imshow(cv2.cvtColor(img, cv2.COLOR_BGR2RGB))\nplt.axis('off')",
      "metadata": {
        "trusted": true
      },
      "execution_count": null,
      "outputs": []
    },
    {
      "cell_type": "code",
      "source": "(b, g, r) = cv2.split(img)\nimg_s = np.vstack([b, g, r])\nplt.imshow(img_s, cmap = 'gray')\nplt.axis('off')",
      "metadata": {
        "trusted": true
      },
      "execution_count": null,
      "outputs": []
    },
    {
      "cell_type": "code",
      "source": "# we decompose the image\nU, S, VT = np.linalg.svd(img_s)\nS = np.diag(S)\ndraw_svd(img_s, U, S, VT, 'gray')",
      "metadata": {},
      "execution_count": null,
      "outputs": []
    },
    {
      "cell_type": "code",
      "source": "# Rank-r approximation\nr_rec = []\ng_rec = []\nb_rec = []\n\nfor r in range(1, 70):\n  print(r)\n  img_r = np.matmul(U[:,:r] , S[:r,:r]) \n  img_r = np.matmul (img_r , VT[:r,:])\n\n  r_rec.append(img_r[:800, :])\n  g_rec.append(img_r[800:1600, :])\n  b_rec.append(img_r[1600:2400, :])\n\n  plt.title(f\"A rank-{r} approximation\")\n  plt.imshow(img_r, cmap='gray')\n  filename = \"image_\" + str(r).zfill(3) + \".jpg\"\n  plt.axis('off')\n  plt.savefig(filename)",
      "metadata": {},
      "execution_count": null,
      "outputs": []
    },
    {
      "cell_type": "code",
      "source": "for i in range(39):\n  print(i)\n  img_new = cv2.merge([r_rec[i], g_rec[i], b_rec[i]])\n  plt.title(\"first terms of a rank-\"+ str(i) +\" approximation\")\n  plt.imshow(cv2.cvtColor(img_new.astype(np.uint8), cv2.COLOR_BGR2RGB))\n  filename = \"original_image_\"+ str(i)+\".jpg\"\n  plt.axis('off')\n  plt.savefig(filename)",
      "metadata": {},
      "execution_count": null,
      "outputs": []
    },
    {
      "cell_type": "code",
      "source": "png_dir = '../content'\nimages = []\nfor file_name in sorted(os.listdir(png_dir)):                           \n  if file_name.startswith('original_image_'):\n    file_path = os.path.join(png_dir, file_name)\n    images.append(imageio.imread(file_path))\nimageio.mimsave('../content/movie1.gif', images, fps = 1)",
      "metadata": {},
      "execution_count": null,
      "outputs": []
    }
  ]
}