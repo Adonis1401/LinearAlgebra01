{
  "metadata": {
    "language_info": {
      "codemirror_mode": {
        "name": "python",
        "version": 3
      },
      "file_extension": ".py",
      "mimetype": "text/x-python",
      "name": "python",
      "nbconvert_exporter": "python",
      "pygments_lexer": "ipython3",
      "version": "3.8"
    },
    "kernelspec": {
      "name": "python",
      "display_name": "Python (Pyodide)",
      "language": "python"
    }
  },
  "nbformat_minor": 4,
  "nbformat": 4,
  "cells": [
    {
      "cell_type": "code",
      "source": "import numpy as np",
      "metadata": {
        "trusted": true
      },
      "execution_count": 1,
      "outputs": []
    },
    {
      "cell_type": "code",
      "source": "#In Python, one way to calculate the dot product would be taking the\n# sum of a list comprehension performing element wise multiplication.\n\ndef inner_dot(x, y):\n    return sum(x_i * y_i for x_i, y_i in zip(x, y))",
      "metadata": {
        "trusted": true
      },
      "execution_count": 2,
      "outputs": []
    },
    {
      "cell_type": "code",
      "source": "x = np.array([2, 7, 1])\ny = np.array([8, 2, 8])\n\nprint(\"The dot product of x and y is: \", inner_dot(x, y))",
      "metadata": {
        "trusted": true
      },
      "execution_count": 3,
      "outputs": [
        {
          "name": "stdout",
          "text": "The dot product of x and y is:  38\n",
          "output_type": "stream"
        }
      ]
    },
    {
      "cell_type": "code",
      "source": "#Alternatively, we can use the np.inner() function.\ndot_product = np.inner(x, y)\nprint(\"The dot product of x and y is: \", dot_product)",
      "metadata": {
        "trusted": true
      },
      "execution_count": 4,
      "outputs": [
        {
          "name": "stdout",
          "text": "The dot product of x and y is:  38\n",
          "output_type": "stream"
        }
      ]
    },
    {
      "cell_type": "code",
      "source": "# We can also use numpy.dot() function\n# This must be used for 2D and 3D arrays\nprint(\"The dot product of x and y is: \", np.dot(x, y))",
      "metadata": {
        "trusted": true
      },
      "execution_count": 5,
      "outputs": [
        {
          "name": "stdout",
          "text": "The dot product of x and y is:  38\n",
          "output_type": "stream"
        }
      ]
    },
    {
      "cell_type": "code",
      "source": "# From Python 3.5 we can use an explicit operator @\n# for the dot product, so you can write the following\nprint(\"The dot product of x and y is: \", x @ y)",
      "metadata": {
        "trusted": true
      },
      "execution_count": 6,
      "outputs": [
        {
          "name": "stdout",
          "text": "The dot product of x and y is:  38\n",
          "output_type": "stream"
        }
      ]
    },
    {
      "cell_type": "code",
      "source": "import math",
      "metadata": {
        "trusted": true
      },
      "execution_count": 7,
      "outputs": []
    },
    {
      "cell_type": "code",
      "source": "def calculate_angle(u, v):\n    dot_product = np.dot(u, v)\n\n    u_mag = np.linalg.norm(u)\n    v_mag = np.linalg.norm(v)\n    magnitude = u_mag * v_mag\n    \n    # math.acos is just the inverse of cos\n    return math.degrees(math.acos(dot_product / magnitude))",
      "metadata": {
        "trusted": true
      },
      "execution_count": 8,
      "outputs": []
    },
    {
      "cell_type": "code",
      "source": "print(calculate_angle([1, 0], [1, 1]))",
      "metadata": {
        "trusted": true
      },
      "execution_count": 9,
      "outputs": [
        {
          "name": "stdout",
          "text": "45.00000000000001\n",
          "output_type": "stream"
        }
      ]
    }
  ]
}